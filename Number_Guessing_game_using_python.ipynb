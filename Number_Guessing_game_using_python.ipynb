{
  "nbformat": 4,
  "nbformat_minor": 0,
  "metadata": {
    "colab": {
      "provenance": []
    },
    "kernelspec": {
      "name": "python3",
      "display_name": "Python 3"
    },
    "language_info": {
      "name": "python"
    }
  },
  "cells": [
    {
      "cell_type": "code",
      "execution_count": 3,
      "metadata": {
        "colab": {
          "base_uri": "https://localhost:8080/"
        },
        "id": "re-HtR01NZ-T",
        "outputId": "2ecc8511-51ef-44c6-98f7-fdd3ce193103"
      },
      "outputs": [
        {
          "output_type": "stream",
          "name": "stdout",
          "text": [
            "Enter any number: 5\n",
            "Too High\n",
            "Enter number again: 2\n",
            "Too Low\n",
            "Enter number again: 3\n",
            "Too Low\n",
            "Enter number again: 6\n",
            "Too High\n",
            "Enter number again: 9\n",
            "Too High\n",
            "Enter number again: 7\n",
            "Too High\n",
            "Enter number again: 8\n",
            "Too High\n",
            "Enter number again: 9\n",
            "Too High\n",
            "Enter number again: 1\n",
            "Too Low\n",
            "Enter number again: 2\n",
            "Too Low\n",
            "Enter number again: 5\n",
            "Too High\n",
            "Enter number again: 6\n",
            "Too High\n",
            "Enter number again: 4\n",
            "You guessed it right!!\n"
          ]
        }
      ],
      "source": [
        "import random\n",
        "n = random.randrange(1,10)\n",
        "guess = int(input(\"Enter any number: \"))\n",
        "while n != guess:\n",
        "    if guess< n:\n",
        "      print(\"Too Low\")\n",
        "      guess = int(input(\"Enter number again: \"))\n",
        "    elif guess > n:\n",
        "      print(\"Too High\")\n",
        "      guess = int(input(\"Enter number again: \"))\n",
        "    else:\n",
        "      break\n",
        "print(\"You guessed it right!!\")"
      ]
    },
    {
      "cell_type": "code",
      "source": [],
      "metadata": {
        "id": "QEZKgTY7OUfp"
      },
      "execution_count": null,
      "outputs": []
    }
  ]
}